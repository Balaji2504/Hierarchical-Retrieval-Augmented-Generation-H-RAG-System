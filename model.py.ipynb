{
 "cells": [
  {
   "cell_type": "code",
   "execution_count": 1,
   "id": "1f5db633",
   "metadata": {},
   "outputs": [
    {
     "name": "stdout",
     "output_type": "stream",
     "text": [
      "Requirement already satisfied: sentence-transformers in c:\\balaji\\lib\\site-packages (2.2.2)\n"
     ]
    },
    {
     "name": "stderr",
     "output_type": "stream",
     "text": [
      "WARNING: Ignoring invalid distribution -rotobuf (c:\\balaji\\lib\\site-packages)\n",
      "WARNING: Ignoring invalid distribution - (c:\\balaji\\lib\\site-packages)\n",
      "WARNING: Ignoring invalid distribution -rotobuf (c:\\balaji\\lib\\site-packages)\n",
      "WARNING: Ignoring invalid distribution - (c:\\balaji\\lib\\site-packages)\n",
      "ERROR: Could not find a version that satisfies the requirement phi3 (from versions: none)\n",
      "ERROR: No matching distribution found for phi3\n",
      "WARNING: Ignoring invalid distribution -rotobuf (c:\\balaji\\lib\\site-packages)\n",
      "WARNING: Ignoring invalid distribution - (c:\\balaji\\lib\\site-packages)\n",
      "WARNING: Ignoring invalid distribution -rotobuf (c:\\balaji\\lib\\site-packages)\n",
      "WARNING: Ignoring invalid distribution - (c:\\balaji\\lib\\site-packages)\n",
      "WARNING: Ignoring invalid distribution -rotobuf (c:\\balaji\\lib\\site-packages)\n",
      "WARNING: Ignoring invalid distribution - (c:\\balaji\\lib\\site-packages)\n"
     ]
    }
   ],
   "source": [
    "!pip install sentence-transformers phi3 mistral\n"
   ]
  },
  {
   "cell_type": "code",
   "execution_count": 3,
   "id": "24c53dd5",
   "metadata": {},
   "outputs": [
    {
     "name": "stderr",
     "output_type": "stream",
     "text": [
      "WARNING: Ignoring invalid distribution -rotobuf (c:\\balaji\\lib\\site-packages)\n",
      "WARNING: Ignoring invalid distribution - (c:\\balaji\\lib\\site-packages)\n",
      "WARNING: Ignoring invalid distribution -rotobuf (c:\\balaji\\lib\\site-packages)\n",
      "WARNING: Ignoring invalid distribution - (c:\\balaji\\lib\\site-packages)\n",
      "ERROR: Could not find a version that satisfies the requirement phi3 (from versions: none)\n",
      "ERROR: No matching distribution found for phi3\n",
      "WARNING: Ignoring invalid distribution -rotobuf (c:\\balaji\\lib\\site-packages)\n",
      "WARNING: Ignoring invalid distribution - (c:\\balaji\\lib\\site-packages)\n",
      "WARNING: Ignoring invalid distribution -rotobuf (c:\\balaji\\lib\\site-packages)\n",
      "WARNING: Ignoring invalid distribution - (c:\\balaji\\lib\\site-packages)\n",
      "WARNING: Ignoring invalid distribution -rotobuf (c:\\balaji\\lib\\site-packages)\n",
      "WARNING: Ignoring invalid distribution - (c:\\balaji\\lib\\site-packages)\n"
     ]
    }
   ],
   "source": [
    "!pip install phi3"
   ]
  },
  {
   "cell_type": "code",
   "execution_count": 4,
   "id": "2a847d5b",
   "metadata": {},
   "outputs": [
    {
     "ename": "ModuleNotFoundError",
     "evalue": "No module named 'phi3'",
     "output_type": "error",
     "traceback": [
      "\u001b[1;31m---------------------------------------------------------------------------\u001b[0m",
      "\u001b[1;31mModuleNotFoundError\u001b[0m                       Traceback (most recent call last)",
      "\u001b[1;32m~\\AppData\\Local\\Temp\\ipykernel_28020\\1218449704.py\u001b[0m in \u001b[0;36m<module>\u001b[1;34m\u001b[0m\n\u001b[0;32m      1\u001b[0m \u001b[1;32mfrom\u001b[0m \u001b[0msentence_transformers\u001b[0m \u001b[1;32mimport\u001b[0m \u001b[0mSentenceTransformer\u001b[0m\u001b[1;33m,\u001b[0m \u001b[0mutil\u001b[0m\u001b[1;33m\u001b[0m\u001b[1;33m\u001b[0m\u001b[0m\n\u001b[1;32m----> 2\u001b[1;33m \u001b[1;32mimport\u001b[0m \u001b[0mphi3\u001b[0m\u001b[1;33m\u001b[0m\u001b[1;33m\u001b[0m\u001b[0m\n\u001b[0m\u001b[0;32m      3\u001b[0m \u001b[1;32mimport\u001b[0m \u001b[0mos\u001b[0m\u001b[1;33m\u001b[0m\u001b[1;33m\u001b[0m\u001b[0m\n\u001b[0;32m      4\u001b[0m \u001b[1;32mimport\u001b[0m \u001b[0mjson\u001b[0m\u001b[1;33m\u001b[0m\u001b[1;33m\u001b[0m\u001b[0m\n\u001b[0;32m      5\u001b[0m \u001b[1;33m\u001b[0m\u001b[0m\n",
      "\u001b[1;31mModuleNotFoundError\u001b[0m: No module named 'phi3'"
     ]
    }
   ],
   "source": [
    "from sentence_transformers import SentenceTransformer, util\n",
    "import phi3\n",
    "import os\n",
    "import json\n",
    "\n",
    "# Load embedding models\n",
    "model_layer1 = SentenceTransformer('all-MiniLM-L6-v2')\n",
    "model_layer2 = SentenceTransformer('all-MPNet-base-v2')\n",
    "\n",
    "# Load dataset\n",
    "dataset_path = \"C:/Users/jamal/OneDrive/Desktop/Company_Assessment/Evvo Technology/dme_deloitte-global-minimum-tax-faq.pdf\"\n",
    "with open(dataset_path, 'r') as f:\n",
    "    documents = json.load(f)\n",
    "\n",
    "# Create vector stores\n",
    "vector_store_layer1 = phi3.VectorStore()\n",
    "vector_store_layer2 = phi3.VectorStore()\n",
    "\n",
    "# Process and store keywords/summaries (Layer 1)\n",
    "for doc_id, doc in documents.items():\n",
    "    summary = doc['summary']  # Assuming each document has a summary\n",
    "    embedding = model_layer1.encode(summary, convert_to_tensor=True)\n",
    "    vector_store_layer1.add(doc_id, embedding)\n",
    "\n",
    "# Process and store full documents (Layer 2)\n",
    "for doc_id, doc in documents.items():\n",
    "    full_text = doc['text']  # Full document text\n",
    "    embedding = model_layer2.encode(full_text, convert_to_tensor=True)\n",
    "    vector_store_layer2.add(doc_id, embedding)\n",
    "\n",
    "# Save vector stores for later use\n",
    "vector_store_layer1.save('vector_store_layer1')\n",
    "vector_store_layer2.save('vector_store_layer2')\n",
    "\n",
    "# Function to retrieve documents\n",
    "def retrieve_documents(query):\n",
    "    # Retrieve summaries (Layer 1)\n",
    "    query_embedding_layer1 = model_layer1.encode(query, convert_to_tensor=True)\n",
    "    results_layer1 = vector_store_layer1.search(query_embedding_layer1, top_k=10)\n",
    "    \n",
    "    # Retrieve full documents (Layer 2)\n",
    "    relevant_doc_ids = [result['id'] for result in results_layer1]\n",
    "    full_docs_embeddings = [vector_store_layer2.get(doc_id) for doc_id in relevant_doc_ids]\n",
    "    query_embedding_layer2 = model_layer2.encode(query, convert_to_tensor=True)\n",
    "    \n",
    "    results_layer2 = util.semantic_search(query_embedding_layer2, full_docs_embeddings, top_k=3)\n",
    "    return results_layer2\n",
    "\n",
    "# Example query\n",
    "query = \"Climate change impact on agriculture\"\n",
    "results = retrieve_documents(query)\n",
    "print(results)\n"
   ]
  },
  {
   "cell_type": "code",
   "execution_count": null,
   "id": "6961f277",
   "metadata": {},
   "outputs": [],
   "source": []
  }
 ],
 "metadata": {
  "kernelspec": {
   "display_name": "Python 3 (ipykernel)",
   "language": "python",
   "name": "python3"
  },
  "language_info": {
   "codemirror_mode": {
    "name": "ipython",
    "version": 3
   },
   "file_extension": ".py",
   "mimetype": "text/x-python",
   "name": "python",
   "nbconvert_exporter": "python",
   "pygments_lexer": "ipython3",
   "version": "3.9.13"
  }
 },
 "nbformat": 4,
 "nbformat_minor": 5
}
